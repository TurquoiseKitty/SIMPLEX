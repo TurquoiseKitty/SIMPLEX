{
 "cells": [
  {
   "cell_type": "code",
   "execution_count": 1,
   "id": "4b779e2a",
   "metadata": {},
   "outputs": [
    {
     "name": "stdout",
     "output_type": "stream",
     "text": [
      "56\n"
     ]
    }
   ],
   "source": [
    "import scipy.io\n",
    "\n",
    "from hand_solver import simplex_cano_solver\n",
    "mat = scipy.io.loadmat('NETLIB/AGG.mat')\n",
    "\n",
    "A = mat[\"A\"].toarray()\n",
    "\n",
    "b = mat['b'].squeeze()\n",
    "\n",
    "c = mat['c'].squeeze()\n",
    "\n",
    "print(len(b[b == 0]))"
   ]
  },
  {
   "cell_type": "code",
   "execution_count": null,
   "id": "67be75fa",
   "metadata": {},
   "outputs": [],
   "source": []
  }
 ],
 "metadata": {
  "kernelspec": {
   "display_name": "Python 3 (ipykernel)",
   "language": "python",
   "name": "python3"
  },
  "language_info": {
   "codemirror_mode": {
    "name": "ipython",
    "version": 3
   },
   "file_extension": ".py",
   "mimetype": "text/x-python",
   "name": "python",
   "nbconvert_exporter": "python",
   "pygments_lexer": "ipython3",
   "version": "3.10.4"
  },
  "vscode": {
   "interpreter": {
    "hash": "b38d7bba42c9ade10e6cbdc84ad1638ca7f304b7814da40d74d73e9484bac2c2"
   }
  }
 },
 "nbformat": 4,
 "nbformat_minor": 5
}
