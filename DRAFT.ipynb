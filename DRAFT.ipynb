{
 "cells": [
  {
   "cell_type": "code",
   "execution_count": 3,
   "id": "0d5af8c5",
   "metadata": {},
   "outputs": [
    {
     "name": "stdout",
     "output_type": "stream",
     "text": [
      "(2, 3)\n"
     ]
    }
   ],
   "source": [
    "from cvxpy_solve import ComputeLP\n",
    "from hand_solver import simplex_cano_solver\n",
    "import numpy as np\n",
    "\n",
    "A = np.array([\n",
    "    [2,1,2,1,0],\n",
    "    [3,3,1,0,1],\n",
    "])\n",
    "\n",
    "b = np.array([\n",
    "    4, 3\n",
    "])\n",
    "\n",
    "c = np.array([\n",
    "    4, 1, 1, 0,0\n",
    "])\n",
    "\n",
    "solver = simplex_cano_solver(A, b, c, rule = \"standard\")\n",
    "\n",
    "solver.solve()\n",
    "solver.get_min_val()\n",
    "print((solver.base_finding_step, solver.opti_finding_step))\n"
   ]
  },
  {
   "cell_type": "code",
   "execution_count": null,
   "id": "4b779e2a",
   "metadata": {},
   "outputs": [],
   "source": [
    "from cvxpy_solve import ComputeLP\n",
    "from hand_solver import simplex_cano_solver\n",
    "import numpy as np\n",
    "\n",
    "np.random.seed(1234)\n",
    "\n",
    "A = np.random.randint(1, 2, size = (10000, 10000))\n",
    "\n",
    "A = np.concatenate((A, np.identity(10000)), axis= 1)\n",
    "\n",
    "b = np.random.randint(20000, 40000, size = 10000)\n",
    "\n",
    "c = np.random.randint(1, 2, size = 20000)\n",
    "\n",
    "solver = simplex_cano_solver(A, b, c, rule = \"standard\")"
   ]
  },
  {
   "cell_type": "code",
   "execution_count": null,
   "id": "67be75fa",
   "metadata": {},
   "outputs": [],
   "source": []
  }
 ],
 "metadata": {
  "kernelspec": {
   "display_name": "Python 3.9.13 ('working')",
   "language": "python",
   "name": "python3"
  },
  "language_info": {
   "codemirror_mode": {
    "name": "ipython",
    "version": 3
   },
   "file_extension": ".py",
   "mimetype": "text/x-python",
   "name": "python",
   "nbconvert_exporter": "python",
   "pygments_lexer": "ipython3",
   "version": "3.9.13"
  },
  "vscode": {
   "interpreter": {
    "hash": "b38d7bba42c9ade10e6cbdc84ad1638ca7f304b7814da40d74d73e9484bac2c2"
   }
  }
 },
 "nbformat": 4,
 "nbformat_minor": 5
}
